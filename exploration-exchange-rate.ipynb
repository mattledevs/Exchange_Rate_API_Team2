{
 "cells": [
  {
   "cell_type": "markdown",
   "metadata": {},
   "source": [
    "# Exploratory Analysis of Currency Exchange Rates - USD vs Other Countries\n",
    "\n",
    "In this Python notebook, we'll be investigating the strength of the US Dollar against 3 other countries over the last 7 election cyles (28 years) to understand how the exchange rates change before and after Election Day in a 30-day window split into two fifteen day periods. \n",
    "\n",
    "We'll explore the volatility of the currencies during this window. The currencies of our focused analysis are: Euro (EUR), Japananese Yen (JPY), and the Chinese Yuan (CNY). \n",
    "\n",
    "All of our data will be pulled from Federal Reserve at [https://www.federalreserve.gov/](https://www.federalreserve.gov/)."
   ]
  },
  {
   "cell_type": "code",
   "execution_count": null,
   "metadata": {},
   "outputs": [],
   "source": [
    "# Install the required libraries\n",
    "!pip install prophet\n",
    "\n",
    "# Import Dependencies\n",
    "import pandas as pd\n",
    "from prophet import Prophet\n",
    "from datetime import datetime\n",
    "import numpy as np\n",
    "import matplotlib.pyplot as plt\n",
    "import matplotlib.dates as mdates\n",
    "import calendar\n",
    "\n",
    "%matplotlib inline"
   ]
  },
  {
   "cell_type": "markdown",
   "metadata": {},
   "source": [
    "# Step 1: Data Prep\n",
    "\n",
    "## Let's collect daily exchange rate data for the currencies - CNY, JPY and EUR\n",
    "Source: [https://www.federalreserve.gov/releases/h10/hist/default.htm](https://www.federalreserve.gov/releases/h10/hist/default.htm)\n",
    "\n",
    "Our method is to save the raw html file locally and use the read_html() function to read the tables. There will be an html file for each country in the 'Resources' folder. "
   ]
  },
  {
   "cell_type": "code",
   "execution_count": null,
   "metadata": {},
   "outputs": [],
   "source": [
    "# list of all countries by their currency abbreviation \n",
    "currencies = ['CNY', 'JPY', 'EUR']\n",
    "\n",
    "# Past 8 election dates\n",
    "election_dates = pd.to_datetime(['2000-11-07', '2004-11-03', '2008-11-04', '2012-11-06', '2016-11-08', '2020-11-03', '2024-11-05'])\n",
    "print(election_dates)"
   ]
  },
  {
   "cell_type": "code",
   "execution_count": 495,
   "metadata": {},
   "outputs": [],
   "source": [
    "# We need to get the exact dates of the windows we're analayzing (15 days before and after election day)\n",
    "# Let's create an empty dictionary for election_windows\n",
    "election_windows = {}\n",
    "\n",
    "#calculate the total 30 days (15 before and 15 after) for each election date\n",
    "for date in election_dates:\n",
    "    start_date = date - pd.Timedelta(days=15)\n",
    "    end_date = date + pd.Timedelta(days=15)\n",
    "    election_windows[date.year] = (start_date, end_date)"
   ]
  },
  {
   "cell_type": "code",
   "execution_count": null,
   "metadata": {},
   "outputs": [],
   "source": [
    "# Preview the election_windows, where the first key is the year, the first key-pair date is the 'before date' and the second key-pair is the 'after date.'\n",
    "election_windows"
   ]
  },
  {
   "cell_type": "code",
   "execution_count": null,
   "metadata": {},
   "outputs": [],
   "source": [
    "# HTML containing the currency rate data was downloaded and stored in the 'Resources' folder\n",
    "# All url's stored as variables\n",
    "china_url = 'Resources/FRB_daily_china.html'\n",
    "japan_url = 'Resources/FRB_daily_japan.html'\n",
    "euro_url = 'Resources/FRB_daily_euro.html'\n",
    "\n",
    "# Read the html file into the tables variable, setting the Date column as the index\n",
    "tables_china_daily_xchange = pd.read_html(china_url, index_col='Date', parse_dates=True)\n",
    "tables_japan_daily_xchange = pd.read_html(japan_url, index_col='Date', parse_dates=True)\n",
    "tables_euro_daily_xchange = pd.read_html(euro_url, index_col='Date', parse_dates=True)\n",
    "\n",
    "# Let's check how many tables we extracted\n",
    "print(f'There are {len(tables_china_daily_xchange)} table(s) extracted from the China exchanges rates url.')\n",
    "print(f'There are {len(tables_japan_daily_xchange)} table(s) extracted from the Japan exchanges rates url.')\n",
    "print(f'There are {len(tables_euro_daily_xchange)} table(s) extracted from the Euro exchanges rates url.')\n",
    "\n",
    "# Create the data frames for all of our exchange rates \n",
    "df_china_daily = tables_china_daily_xchange[0]\n",
    "df_japan_daily = tables_japan_daily_xchange[0]\n",
    "df_euro_daily = tables_euro_daily_xchange[0]\n",
    "\n",
    "# Preview our df's\n",
    "display(df_china_daily)\n",
    "display(df_japan_daily)\n",
    "display(df_euro_daily)"
   ]
  },
  {
   "cell_type": "code",
   "execution_count": null,
   "metadata": {},
   "outputs": [],
   "source": [
    "# Let's rename the 'Rate' column to their respective their country\n",
    "df_china_daily.rename(columns={'Rate': 'CNY'}, inplace=True)\n",
    "df_japan_daily.rename(columns={'Rate': 'JPY'}, inplace=True)\n",
    "df_euro_daily.rename(columns={'Rate': 'EUR'}, inplace=True)\n",
    "\n",
    "# Preview each dataframe to confirm the addition of the column\n",
    "display(df_china_daily)\n",
    "display(df_japan_daily)\n",
    "display(df_euro_daily)"
   ]
  },
  {
   "cell_type": "code",
   "execution_count": 499,
   "metadata": {},
   "outputs": [],
   "source": [
    "# 'ND' is a placeholder for where currency exchange data isn't provided\n",
    "# On each dataframe, let's replace value 'ND' with NaN\n",
    "df_china_daily = df_china_daily.replace('ND', np.nan)\n",
    "df_japan_daily = df_japan_daily.replace('ND', np.nan)\n",
    "df_euro_daily = df_euro_daily.replace('ND', np.nan)"
   ]
  },
  {
   "cell_type": "code",
   "execution_count": null,
   "metadata": {},
   "outputs": [],
   "source": [
    "# Let's merge all three data frames based on the date index\n",
    "df_currency_rates = pd.concat([df_china_daily, df_japan_daily, df_euro_daily], axis='columns', join='inner')\n",
    "display(df_currency_rates)"
   ]
  },
  {
   "cell_type": "code",
   "execution_count": null,
   "metadata": {},
   "outputs": [],
   "source": [
    "# Let's investigate all the data types of our newly merged df\n",
    "df_currency_rates.info()"
   ]
  },
  {
   "cell_type": "code",
   "execution_count": null,
   "metadata": {},
   "outputs": [],
   "source": [
    "# Let's convert all of our rate data to float type and verify \n",
    "df_currency_rates['CNY'] = pd.to_numeric(df_currency_rates['CNY'], errors='coerce')\n",
    "df_currency_rates['JPY'] = pd.to_numeric(df_currency_rates['JPY'], errors='coerce')\n",
    "df_currency_rates['EUR'] = pd.to_numeric(df_currency_rates['EUR'], errors='coerce')\n",
    "\n",
    "df_currency_rates.dtypes"
   ]
  },
  {
   "cell_type": "code",
   "execution_count": null,
   "metadata": {},
   "outputs": [],
   "source": [
    "# Check for null values\n",
    "display(df_currency_rates.shape)\n",
    "display(df_currency_rates.isnull().sum())"
   ]
  },
  {
   "cell_type": "code",
   "execution_count": 504,
   "metadata": {},
   "outputs": [],
   "source": [
    "# 255/6535 is a small percentage of the data, so we can drop the rows with null values\n",
    "df_currency_rates = df_currency_rates.dropna()"
   ]
  },
  {
   "cell_type": "code",
   "execution_count": null,
   "metadata": {},
   "outputs": [],
   "source": [
    "# Verify 0 null values\n",
    "df_currency_rates.isnull().sum()"
   ]
  },
  {
   "cell_type": "code",
   "execution_count": 506,
   "metadata": {},
   "outputs": [],
   "source": [
    "# Let's get the data for the election windows for 2000\n",
    "exchange_rates_2000_before = df_currency_rates[(df_currency_rates.index >= election_windows[2000][0]) & (df_currency_rates.index < election_dates[0])]\n",
    "exchange_rates_2000_after = df_currency_rates[(df_currency_rates.index >= election_dates[0]) & (df_currency_rates.index <= election_windows[2000][1])]\n",
    "\n",
    "# Let's get the data for the election windows for 2004\n",
    "exchange_rates_2004_before = df_currency_rates[(df_currency_rates.index >= election_windows[2004][0]) & (df_currency_rates.index < election_dates[1])]\n",
    "exchange_rates_2004_after = df_currency_rates[(df_currency_rates.index >= election_dates[1]) & (df_currency_rates.index <= election_windows[2004][1])]\n",
    "\n",
    "# Let's get the data for the election windows for 2008\n",
    "exchange_rates_2008_before = df_currency_rates[(df_currency_rates.index >= election_windows[2008][0]) & (df_currency_rates.index < election_dates[2])]\n",
    "exchange_rates_2008_after = df_currency_rates[(df_currency_rates.index >= election_dates[2]) & (df_currency_rates.index <= election_windows[2008][1])]\n",
    "\n",
    "# Let's get the data for the election windows for 2012\n",
    "exchange_rates_2012_before = df_currency_rates[(df_currency_rates.index >= election_windows[2012][0]) & (df_currency_rates.index < election_dates[3])]\n",
    "exchange_rates_2012_after = df_currency_rates[(df_currency_rates.index >= election_dates[3]) & (df_currency_rates.index <= election_windows[2012][1])]\n",
    "\n",
    "# Let's get the data for the election windows for 2016\n",
    "exchange_rates_2016_before = df_currency_rates[(df_currency_rates.index >= election_windows[2016][0]) & (df_currency_rates.index < election_dates[4])]\n",
    "exchange_rates_2016_after = df_currency_rates[(df_currency_rates.index >= election_dates[4]) & (df_currency_rates.index <= election_windows[2016][1])]\n",
    "\n",
    "# Let's get the data for the election windows for 2020\n",
    "exchange_rates_2020_before = df_currency_rates[(df_currency_rates.index >= election_windows[2020][0]) & (df_currency_rates.index < election_dates[5])]\n",
    "exchange_rates_2020_after = df_currency_rates[(df_currency_rates.index >= election_dates[5]) & (df_currency_rates.index <= election_windows[2020][1])]\n",
    "\n",
    "# Let's get the data for the election windows for 2024\n",
    "exchange_rates_2024_before = df_currency_rates[(df_currency_rates.index >= election_windows[2024][0]) & (df_currency_rates.index < election_dates[6])]\n",
    "exchange_rates_2024_after = df_currency_rates[(df_currency_rates.index >= election_dates[6]) & (df_currency_rates.index <= election_windows[2024][1])]\n"
   ]
  },
  {
   "cell_type": "code",
   "execution_count": null,
   "metadata": {},
   "outputs": [],
   "source": [
    "# Let's Preview some of the data to verify\n",
    "display(exchange_rates_2000_before)\n",
    "display(exchange_rates_2000_after)\n",
    "\n",
    "display(exchange_rates_2024_before)\n",
    "display(exchange_rates_2024_after)"
   ]
  },
  {
   "cell_type": "code",
   "execution_count": 508,
   "metadata": {},
   "outputs": [],
   "source": [
    "# Combine both before and after data frames for each of the election years\n",
    "exchange_rates_2020_combo = pd.concat([exchange_rates_2020_before, exchange_rates_2020_after])\n",
    "exchange_rates_2004_combo = pd.concat([exchange_rates_2004_before, exchange_rates_2004_after])\n",
    "exchange_rates_2008_combo = pd.concat([exchange_rates_2008_before, exchange_rates_2008_after])\n",
    "exchange_rates_2012_combo = pd.concat([exchange_rates_2012_before, exchange_rates_2012_after])\n",
    "exchange_rates_2016_combo = pd.concat([exchange_rates_2016_before, exchange_rates_2016_after])\n",
    "exchange_rates_2020_combo = pd.concat([exchange_rates_2020_before, exchange_rates_2020_after])\n",
    "exchange_rates_2024_combo = pd.concat([exchange_rates_2024_before, exchange_rates_2024_after])\n"
   ]
  },
  {
   "cell_type": "code",
   "execution_count": 509,
   "metadata": {},
   "outputs": [],
   "source": [
    "# Let's show only day and month for each of the DFs\n",
    "exchange_rates_2020_combo['DayMonth'] = exchange_rates_2020_combo.index.strftime('%d-%b')\n",
    "exchange_rates_2004_combo['DayMonth'] = exchange_rates_2004_combo.index.strftime('%d-%b')\n",
    "exchange_rates_2008_combo['DayMonth'] = exchange_rates_2008_combo.index.strftime('%d-%b')\n",
    "exchange_rates_2012_combo['DayMonth'] = exchange_rates_2012_combo.index.strftime('%d-%b')\n",
    "exchange_rates_2016_combo['DayMonth'] = exchange_rates_2016_combo.index.strftime('%d-%b')\n",
    "exchange_rates_2020_combo['DayMonth'] = exchange_rates_2020_combo.index.strftime('%d-%b')\n",
    "exchange_rates_2024_combo['DayMonth'] = exchange_rates_2024_combo.index.strftime('%d-%b')"
   ]
  },
  {
   "cell_type": "code",
   "execution_count": 510,
   "metadata": {},
   "outputs": [],
   "source": [
    "# Ensure the DRs are sorted by DayMonth\n",
    "exchange_rates_2000_combo = exchange_rates_2020_combo.sort_index()\n",
    "exchange_rates_2004_combo = exchange_rates_2004_combo.sort_index()\n",
    "exchange_rates_2008_combo = exchange_rates_2008_combo.sort_index()\n",
    "exchange_rates_2012_combo = exchange_rates_2012_combo.sort_index()\n",
    "exchange_rates_2016_combo = exchange_rates_2016_combo.sort_index()\n",
    "exchange_rates_2020_combo = exchange_rates_2020_combo.sort_index()\n",
    "exchange_rates_2024_combo = exchange_rates_2024_combo.sort_index()"
   ]
  },
  {
   "cell_type": "markdown",
   "metadata": {},
   "source": [
    "# Step 2: Visualize Data\n",
    "\n",
    "# CNY"
   ]
  },
  {
   "cell_type": "code",
   "execution_count": null,
   "metadata": {},
   "outputs": [],
   "source": [
    "# USE THIS FOR FINAL PLOT\n",
    "plt.clf()\n",
    "\n",
    "# Create the figure\n",
    "plt.figure(figsize=(18, 6))\n",
    "\n",
    "# Plot each line using the combo dataframes and DayMonth column\n",
    "plt.plot(range(len(exchange_rates_2000_combo)), exchange_rates_2000_combo['CNY'], label='2000', color='brown')\n",
    "plt.plot(range(len(exchange_rates_2004_combo)), exchange_rates_2004_combo['CNY'], label='2004', color='green')\n",
    "plt.plot(range(len(exchange_rates_2008_combo)), exchange_rates_2008_combo['CNY'], label='2008', color='blue')\n",
    "plt.plot(range(len(exchange_rates_2012_combo)), exchange_rates_2012_combo['CNY'], label='2012', color='red')\n",
    "plt.plot(range(len(exchange_rates_2016_combo)), exchange_rates_2016_combo['CNY'], label='2016', color='purple')\n",
    "plt.plot(range(len(exchange_rates_2020_combo)), exchange_rates_2020_combo['CNY'], label='2020', color='orange')\n",
    "plt.plot(range(len(exchange_rates_2024_combo)), exchange_rates_2024_combo['CNY'], label='2024', color='black')\n",
    "\n",
    "# Customize the plot\n",
    "plt.title('USD to CNY Exchange Rate Before and After Election Day')\n",
    "plt.xlabel('Days')\n",
    "plt.ylabel('Exchange Rate (USD/CNY)')\n",
    "\n",
    "# Use the DayMonth from one of the combo dataframes for x-axis labels\n",
    "# Show every 3rd label to avoid overcrowding\n",
    "x_ticks = range(0, len(exchange_rates_2004_combo), 3)\n",
    "plt.xticks(x_ticks, exchange_rates_2004_combo['DayMonth'].iloc[x_ticks], rotation=45)\n",
    "\n",
    "# Add vertical line at election day (middle point)\n",
    "middle_idx = len(exchange_rates_2004_combo) // 2\n",
    "plt.axvline(x=middle_idx, color='gray', linestyle='--', alpha=0.5)\n",
    "\n",
    "# Add grid for better readability\n",
    "plt.grid(True, alpha=0.3)\n",
    "\n",
    "# Add legend\n",
    "plt.legend()\n",
    "\n",
    "# Adjust layout to prevent label cutoff\n",
    "plt.tight_layout()\n",
    "\n",
    "# Display the chart\n",
    "plt.show()"
   ]
  },
  {
   "cell_type": "markdown",
   "metadata": {},
   "source": [
    "## EUR"
   ]
  },
  {
   "cell_type": "code",
   "execution_count": null,
   "metadata": {},
   "outputs": [],
   "source": [
    "# USE THIS FOR FINAL PLOT\n",
    "# AI help\n",
    "plt.clf()\n",
    "\n",
    "# Create the figure\n",
    "plt.figure(figsize=(18, 6))\n",
    "\n",
    "# Plot each line using the combo dataframes and DayMonth column\n",
    "plt.plot(range(len(exchange_rates_2000_combo)), exchange_rates_2000_combo['EUR'], label='2000', color='brown')\n",
    "plt.plot(range(len(exchange_rates_2004_combo)), exchange_rates_2004_combo['EUR'], label='2004', color='green')\n",
    "plt.plot(range(len(exchange_rates_2008_combo)), exchange_rates_2008_combo['EUR'], label='2008', color='blue')\n",
    "plt.plot(range(len(exchange_rates_2012_combo)), exchange_rates_2012_combo['EUR'], label='2012', color='red')\n",
    "plt.plot(range(len(exchange_rates_2016_combo)), exchange_rates_2016_combo['EUR'], label='2016', color='purple')\n",
    "plt.plot(range(len(exchange_rates_2020_combo)), exchange_rates_2020_combo['EUR'], label='2020', color='orange')\n",
    "plt.plot(range(len(exchange_rates_2024_combo)), exchange_rates_2024_combo['EUR'], label='2024', color='black')\n",
    "\n",
    "# Customize the plot\n",
    "plt.title('USD to EUR Exchange Rate Before and After Election Day')\n",
    "plt.xlabel('Days')\n",
    "plt.ylabel('Exchange Rate (USD/EUR)')\n",
    "\n",
    "# Use the DayMonth from one of the combo dataframes for x-axis labels\n",
    "# Show every 3rd label to avoid overcrowding\n",
    "x_ticks = range(0, len(exchange_rates_2004_combo), 3)\n",
    "plt.xticks(x_ticks, exchange_rates_2004_combo['DayMonth'].iloc[x_ticks], rotation=45)\n",
    "\n",
    "# Add vertical line at election day (middle point)\n",
    "middle_idx = len(exchange_rates_2004_combo) // 2\n",
    "plt.axvline(x=middle_idx, color='gray', linestyle='--', alpha=0.5)\n",
    "\n",
    "# Add grid for better readability\n",
    "plt.grid(True, alpha=0.3)\n",
    "\n",
    "# Add legend\n",
    "plt.legend()\n",
    "\n",
    "# Adjust layout to prevent label cutoff\n",
    "plt.tight_layout()\n",
    "\n",
    "# Display the chart\n",
    "plt.show()"
   ]
  },
  {
   "cell_type": "markdown",
   "metadata": {},
   "source": [
    "## JPY"
   ]
  },
  {
   "cell_type": "code",
   "execution_count": null,
   "metadata": {},
   "outputs": [],
   "source": [
    "# USE THIS FOR FINAL PLOT\n",
    "# AI help\n",
    "plt.clf()\n",
    "\n",
    "# Create the figure\n",
    "plt.figure(figsize=(18, 6))\n",
    "\n",
    "# Plot each line using the combo dataframes and DayMonth column\n",
    "plt.plot(range(len(exchange_rates_2000_combo)), exchange_rates_2000_combo['JPY'], label='2000', color='brown')\n",
    "plt.plot(range(len(exchange_rates_2004_combo)), exchange_rates_2004_combo['JPY'], label='2004', color='green')\n",
    "plt.plot(range(len(exchange_rates_2008_combo)), exchange_rates_2008_combo['JPY'], label='2008', color='blue')\n",
    "plt.plot(range(len(exchange_rates_2012_combo)), exchange_rates_2012_combo['JPY'], label='2012', color='red')\n",
    "plt.plot(range(len(exchange_rates_2016_combo)), exchange_rates_2016_combo['JPY'], label='2016', color='purple')\n",
    "plt.plot(range(len(exchange_rates_2020_combo)), exchange_rates_2020_combo['JPY'], label='2020', color='orange')\n",
    "plt.plot(range(len(exchange_rates_2024_combo)), exchange_rates_2024_combo['JPY'], label='2024', color='black')\n",
    "\n",
    "# Customize the plot\n",
    "plt.title('USD to JPY Exchange Rate Before and After Election Day')\n",
    "plt.xlabel('Days')\n",
    "plt.ylabel('Exchange Rate (USD/JPY)')\n",
    "\n",
    "# Use the DayMonth from one of the combo dataframes for x-axis labels\n",
    "# Show every 3rd label to avoid overcrowding\n",
    "x_ticks = range(0, len(exchange_rates_2004_combo), 3)\n",
    "plt.xticks(x_ticks, exchange_rates_2004_combo['DayMonth'].iloc[x_ticks], rotation=45)\n",
    "\n",
    "# Add vertical line at election day (middle point)\n",
    "middle_idx = len(exchange_rates_2004_combo) // 2\n",
    "plt.axvline(x=middle_idx, color='gray', linestyle='--', alpha=0.5)\n",
    "\n",
    "# Add grid for better readability\n",
    "plt.grid(True, alpha=0.3)\n",
    "\n",
    "# Add legend\n",
    "plt.legend()\n",
    "\n",
    "# Adjust layout to prevent label cutoff\n",
    "plt.tight_layout()\n",
    "\n",
    "# Display the chart\n",
    "plt.show()"
   ]
  },
  {
   "cell_type": "code",
   "execution_count": null,
   "metadata": {},
   "outputs": [],
   "source": [
    "# Using the exchange_rates_2004_combo dataframe, create a copy to another data frame and drop the DayMonth column\n",
    "exchange_rates_2004_combo_copy = exchange_rates_2004_combo.copy()\n",
    "exchange_rates_2004_combo_copy.drop(columns='DayMonth', inplace=True)\n",
    "\n",
    "display(exchange_rates_2004_combo_copy)"
   ]
  },
  {
   "cell_type": "code",
   "execution_count": null,
   "metadata": {},
   "outputs": [],
   "source": [
    "exchange_rates_2004_combo_copy.info()"
   ]
  },
  {
   "cell_type": "code",
   "execution_count": null,
   "metadata": {},
   "outputs": [],
   "source": [
    "# Example of 30 day window for 2024\n",
    "normalized_rates = exchange_rates_2004_combo_copy.apply(lambda x: (x - x.min()) / (x.max() - x.min()))\n",
    "\n",
    "plt.clf()\n",
    "plt.figure(figsize=(18, 6))\n",
    "plt.plot(normalized_rates.index, normalized_rates['EUR'], label='EUR', color='blue')\n",
    "plt.plot(normalized_rates.index, normalized_rates['JPY'], label='JPY', color='red')\n",
    "plt.plot(normalized_rates.index, normalized_rates['CNY'], label='CNY', color='green')\n",
    "plt.title('USD to Foreign Exchange Rate for 2024')\n",
    "plt.xlabel('Months')\n",
    "plt.ylabel('Exchange Rate')\n",
    "\n",
    "plt.legend()\n",
    "plt.tight_layout()\n",
    "plt.show()"
   ]
  },
  {
   "cell_type": "code",
   "execution_count": null,
   "metadata": {},
   "outputs": [],
   "source": [
    "normalized_rates = df_currency_rates.apply(lambda x: (x - x.min()) / (x.max() - x.min()))\n",
    "\n",
    "plt.clf()\n",
    "plt.figure(figsize=(18, 6))\n",
    "plt.plot(normalized_rates.index, normalized_rates['EUR'], label='EUR', color='blue')\n",
    "plt.plot(normalized_rates.index, normalized_rates['JPY'], label='JPY', color='red')\n",
    "plt.plot(normalized_rates.index, normalized_rates['CNY'], label='CNY', color='green')\n",
    "plt.title('Normalized USD to Foreign Exchange Rate From 2004-2024')\n",
    "plt.xlabel('Year')\n",
    "plt.ylabel('Exchange Rate')\n",
    "\n",
    "ax = plt.gca()  # Get the current axis\n",
    "ax.xaxis.set_major_locator(mdates.YearLocator())  # Major ticks at the start of each month\n",
    "#ax.xaxis.set_major_formatter(mdates.DateFormatter('%b'))  # Format as abbreviated month names\n",
    "\n",
    "# Add grid for better readability\n",
    "plt.grid(True, alpha=0.3)\n",
    "\n",
    "# Add vertical line at election day (middle point)\n",
    "# Loop through each date and add a vertical line\n",
    "for date in election_dates:\n",
    "    plt.axvline(x=date, color='gray', linestyle='--', alpha=0.8)\n",
    "\n",
    "# Add a label for election dates (only once, to avoid repetition)\n",
    "plt.axvline(x=election_dates[0], color='gray', linestyle='--', alpha=0.8, label='Election Day')\n",
    "\n",
    "\n",
    "\n",
    "plt.legend()\n",
    "plt.tight_layout()\n",
    "plt.show()\n",
    "\n"
   ]
  },
  {
   "cell_type": "markdown",
   "metadata": {},
   "source": [
    "# 3. Analyze the Data"
   ]
  },
  {
   "cell_type": "markdown",
   "metadata": {},
   "source": [
    "## Analysis of CNY, EUR, and JPY Volatility"
   ]
  },
  {
   "cell_type": "code",
   "execution_count": null,
   "metadata": {},
   "outputs": [],
   "source": [
    "# Create a new column called 'Lagged Currency Rate' for all of the seperated dataframes\n",
    "df_china_daily['Lagged Currency Rate'] = df_china_daily['CNY'].shift(1)\n",
    "df_euro_daily['Lagged Currency Rate'] = df_euro_daily['EUR'].shift(1)\n",
    "df_japan_daily['Lagged Currency Rate'] = df_japan_daily['JPY'].shift(1)\n",
    "\n",
    "# Add a column calculating the percent change with .pct_change() for all of the seperated dataframes\n",
    "df_china_daily['Daily Rate Change'] = df_china_daily['CNY'].astype(float).pct_change()\n",
    "df_euro_daily['Daily Rate Change'] = df_euro_daily['EUR'].astype(float).pct_change()\n",
    "df_japan_daily['Daily Rate Change'] = df_japan_daily['JPY'].astype(float).pct_change()\n",
    " \n",
    "# Add a column with the volatility of the exchanges rates on a monthly bases with a rolling window of 4 days using df_currency_rates\n",
    "df_china_daily['Currency Volatility'] = df_china_daily['Daily Rate Change'].rolling(window=7).std()\n",
    "df_euro_daily['Currency Volatility'] = df_euro_daily['Daily Rate Change'].rolling(window=7).std()\n",
    "df_japan_daily['Currency Volatility'] = df_japan_daily['Daily Rate Change'].rolling(window=7).std()"
   ]
  },
  {
   "cell_type": "code",
   "execution_count": null,
   "metadata": {},
   "outputs": [],
   "source": [
    "# Let's preview our currency data frames with the newly added columns\n",
    "display(df_china_daily.head(10))\n",
    "display(df_euro_daily.head(10))\n",
    "display(df_japan_daily.head(10))"
   ]
  },
  {
   "cell_type": "code",
   "execution_count": null,
   "metadata": {},
   "outputs": [],
   "source": [
    "# Let visualize the Volatility of CNY, EUR and JPY on one graph\n",
    "plt.clf()\n",
    "plt.figure(figsize=(18, 6))\n",
    "plt.plot(df_china_daily['Currency Volatility'], label='CNY')\n",
    "plt.plot(df_euro_daily['Currency Volatility'], label='EUR')\n",
    "plt.plot(df_japan_daily['Currency Volatility'], label='JPY')\n",
    "plt.legend()\n",
    "plt.title('Currency Volatility')\n",
    "plt.xlabel('Date')\n",
    "plt.ylabel('Volatility')\n",
    "\n",
    "# Add vertical line at election day (middle point)\n",
    "# Loop through each date and add a vertical line\n",
    "for date in election_dates:\n",
    "    plt.axvline(x=date, color='gray', linestyle='--', alpha=0.8)\n",
    "\n",
    "# Add a label for election dates (only once, to avoid repetition)\n",
    "plt.axvline(x=election_dates[0], color='gray', linestyle='--', alpha=0.8, label='Election Day')\n",
    "plt.show()"
   ]
  },
  {
   "cell_type": "code",
   "execution_count": null,
   "metadata": {},
   "outputs": [],
   "source": [
    "election_windows"
   ]
  },
  {
   "cell_type": "code",
   "execution_count": null,
   "metadata": {},
   "outputs": [],
   "source": [
    "election_windows[2000][0]"
   ]
  },
  {
   "cell_type": "code",
   "execution_count": null,
   "metadata": {},
   "outputs": [],
   "source": [
    "election_windows[2000][1]"
   ]
  },
  {
   "cell_type": "code",
   "execution_count": null,
   "metadata": {},
   "outputs": [],
   "source": [
    "# Let's Zoom in the election years looking at the graph closer - 15 days before and after election\n",
    "# 2000 Election Year\n",
    "plt.clf()\n",
    "plt.figure(figsize=(18, 6))\n",
    "plt.plot(df_china_daily['Currency Volatility'], label='CNY')\n",
    "plt.plot(df_euro_daily['Currency Volatility'], label='EUR')\n",
    "plt.plot(df_japan_daily['Currency Volatility'], label='JPY')\n",
    "plt.legend()\n",
    "plt.title('Currency Volatility - Election Year 2000')\n",
    "plt.xlabel('Date')\n",
    "plt.ylabel('Volatility')\n",
    "plt.xlim(pd.to_datetime(election_windows[2000][0]), pd.to_datetime(election_windows[2000][1]))\n",
    "plt.show()"
   ]
  },
  {
   "cell_type": "code",
   "execution_count": null,
   "metadata": {},
   "outputs": [],
   "source": [
    "# 2004 Election Year\n",
    "plt.clf()\n",
    "plt.figure(figsize=(18, 6))\n",
    "plt.plot(df_china_daily['Currency Volatility'], label='CNY')\n",
    "plt.plot(df_euro_daily['Currency Volatility'], label='EUR')\n",
    "plt.plot(df_japan_daily['Currency Volatility'], label='JPY')\n",
    "plt.legend()\n",
    "plt.title('Currency Volatility - Election Year 2004')\n",
    "plt.xlabel('Date')\n",
    "plt.ylabel('Volatility')\n",
    "plt.xlim(pd.to_datetime(election_windows[2004][0]), pd.to_datetime(election_windows[2004][1]))\n",
    "plt.show()"
   ]
  },
  {
   "cell_type": "code",
   "execution_count": null,
   "metadata": {},
   "outputs": [],
   "source": [
    "# 2008 Election Year\n",
    "plt.clf()\n",
    "plt.figure(figsize=(18, 6))\n",
    "plt.plot(df_china_daily['Currency Volatility'], label='CNY')\n",
    "plt.plot(df_euro_daily['Currency Volatility'], label='EUR')\n",
    "plt.plot(df_japan_daily['Currency Volatility'], label='JPY')\n",
    "plt.legend()\n",
    "plt.title('Currency Volatility - Election Year 2008')\n",
    "plt.xlabel('Date')\n",
    "plt.ylabel('Volatility')\n",
    "plt.xlim(pd.to_datetime(election_windows[2008][0]), pd.to_datetime(election_windows[2008][1]))\n",
    "plt.show()"
   ]
  },
  {
   "cell_type": "code",
   "execution_count": null,
   "metadata": {},
   "outputs": [],
   "source": [
    "# 2012 Election Year\n",
    "plt.clf()\n",
    "plt.figure(figsize=(18, 6))\n",
    "plt.plot(df_china_daily['Currency Volatility'], label='CNY')\n",
    "plt.plot(df_euro_daily['Currency Volatility'], label='EUR')\n",
    "plt.plot(df_japan_daily['Currency Volatility'], label='JPY')\n",
    "plt.legend()\n",
    "plt.title('Currency Volatility - Election Year 2012')\n",
    "plt.xlabel('Date')\n",
    "plt.ylabel('Volatility')\n",
    "plt.xlim(pd.to_datetime(election_windows[2012][0]), pd.to_datetime(election_windows[2012][1]))\n",
    "plt.show()"
   ]
  },
  {
   "cell_type": "code",
   "execution_count": null,
   "metadata": {},
   "outputs": [],
   "source": [
    "# 2016 Election Year\n",
    "plt.clf()\n",
    "plt.figure(figsize=(18, 6))\n",
    "plt.plot(df_china_daily['Currency Volatility'], label='CNY')\n",
    "plt.plot(df_euro_daily['Currency Volatility'], label='EUR')\n",
    "plt.plot(df_japan_daily['Currency Volatility'], label='JPY')\n",
    "plt.legend()\n",
    "plt.title('Currency Volatility - Election Year 2016')\n",
    "plt.xlabel('Date')\n",
    "plt.ylabel('Volatility')\n",
    "plt.xlim(pd.to_datetime(election_windows[2016][0]), pd.to_datetime(election_windows[2016][1]))\n",
    "plt.show()"
   ]
  },
  {
   "cell_type": "code",
   "execution_count": null,
   "metadata": {},
   "outputs": [],
   "source": [
    "# 2020 Election Year\n",
    "plt.clf()\n",
    "plt.figure(figsize=(18, 6))\n",
    "plt.plot(df_china_daily['Currency Volatility'], label='CNY')\n",
    "plt.plot(df_euro_daily['Currency Volatility'], label='EUR')\n",
    "plt.plot(df_japan_daily['Currency Volatility'], label='JPY')\n",
    "plt.legend()\n",
    "plt.title('Currency Volatility - Election Year 2020')\n",
    "plt.xlabel('Date')\n",
    "plt.ylabel('Volatility')\n",
    "plt.xlim(pd.to_datetime(election_windows[2020][0]), pd.to_datetime(election_windows[2020][1]))\n",
    "plt.show()"
   ]
  },
  {
   "cell_type": "code",
   "execution_count": null,
   "metadata": {},
   "outputs": [],
   "source": [
    "# 2024 Election Year\n",
    "plt.clf()\n",
    "plt.figure(figsize=(18, 6))\n",
    "plt.plot(df_china_daily['Currency Volatility'], label='CNY')\n",
    "plt.plot(df_euro_daily['Currency Volatility'], label='EUR')\n",
    "plt.plot(df_japan_daily['Currency Volatility'], label='JPY')\n",
    "plt.legend()\n",
    "plt.title('Currency Volatility - Election Year 2024')\n",
    "plt.xlabel('Date')\n",
    "plt.ylabel('Volatility')\n",
    "plt.xlim(pd.to_datetime(election_windows[2024][0]), pd.to_datetime(election_windows[2024][1]))\n",
    "plt.show()"
   ]
  },
  {
   "cell_type": "code",
   "execution_count": 521,
   "metadata": {},
   "outputs": [],
   "source": [
    "# Let's investigate a certain date range to see how all three currencies perform around the 2024 election year. \n",
    "# We'll aslo choose a non-election year of 2022 so we have something to compare it to. \n",
    "\n",
    "# Let's set our variables for our start and end date for 2022 and 2024\n",
    "start_date_2022 = '2022-06-22'\n",
    "end_date_2022 = '2022-12-31'\n",
    "\n",
    "start_date_2024 = '2024-06-22'\n",
    "end_date_2024 = '2024-12-31'\n",
    "\n",
    "# Slice the full data frame into the start and end dates for 2022 and 2024\n",
    "df_china_daily_zoom_2022 = df_china_daily.loc[start_date_2022:end_date_2022]\n",
    "df_china_daily_zoom_2024 = df_china_daily.loc[start_date_2024:end_date_2024]\n",
    "df_euro_daily_zoom_2022 = df_euro_daily.loc[start_date_2022:end_date_2022]\n",
    "df_euro_daily_zoom_2024 = df_euro_daily.loc[start_date_2024:end_date_2024]\n",
    "df_japan_daily_zoom_2022 = df_japan_daily.loc[start_date_2022:end_date_2022]\n",
    "df_japan_daily_zoom_2024 = df_japan_daily.loc[start_date_2024:end_date_2024]\n"
   ]
  },
  {
   "cell_type": "code",
   "execution_count": null,
   "metadata": {},
   "outputs": [],
   "source": [
    "# Show the plots for CNY, EUR, and JPY Volatility\n",
    "plt.clf()\n",
    "df_china_daily_zoom_2022.plot(figsize=(12, 6), title=\"China Currency Volatility - 2022 (Non-Election Year)\")\n",
    "df_china_daily_zoom_2024.plot(figsize=(12, 6), title=\"China Currency Volatility - 2024 (Election Year)\")\n",
    "df_euro_daily_zoom_2022.plot(figsize=(12, 6), title=\"Euro Currency Volatility - 2022 (Non-Election Year)\")\n",
    "df_euro_daily_zoom_2024.plot(figsize=(12, 6), title=\"Euro Currency Volatility - 2024 (Election Year)\")\n",
    "df_japan_daily_zoom_2022.plot(figsize=(12, 6), title=\"Japan Currency Volatility - 2022 (Non-Election Year)\")\n",
    "df_japan_daily_zoom_2024.plot(figsize=(12, 6), title=\"Japan Currency Volatility - 2024 (Election Year)\")\n",
    "plt.show()"
   ]
  },
  {
   "cell_type": "markdown",
   "metadata": {},
   "source": [
    "# Mine exchange rate data for seasonality\n",
    "\n",
    "Mine the exchange rate data for predictable seasonal patterns\n",
    "\n",
    "1. Group the daily exchange rate data to plot the average rate by day of the week. \n",
    "2. Group the daily exchange rate data to plot the average rate by week of the year. \n"
   ]
  },
  {
   "cell_type": "code",
   "execution_count": 523,
   "metadata": {},
   "outputs": [],
   "source": [
    "# Convert the CNY to the datatype float in df_china_daily\n",
    "df_china_daily['CNY'] = df_china_daily['CNY'].astype(float)\n",
    "df_china_daily['Lagged Currency Rate'] = df_china_daily['Lagged Currency Rate'].astype(float)\n",
    "\n",
    "df_euro_daily['EUR'] = df_euro_daily['EUR'].astype(float)\n",
    "df_euro_daily['Lagged Currency Rate'] = df_china_daily['Lagged Currency Rate'].astype(float)\n",
    "\n",
    "df_japan_daily['JPY'] = df_japan_daily['JPY'].astype(float)\n",
    "df_japan_daily['Lagged Currency Rate'] = df_china_daily['Lagged Currency Rate'].astype(float)"
   ]
  },
  {
   "cell_type": "code",
   "execution_count": null,
   "metadata": {},
   "outputs": [],
   "source": [
    "# Group the daily exchange rate data to plot the average rate by month of year\n",
    "median_montly_exchange_CNY = df_china_daily.groupby(df_china_daily.index.month).mean()\n",
    "median_montly_exchange_EUR = df_euro_daily.groupby(df_euro_daily.index.month).mean()\n",
    "median_montly_exchange_JPY = df_japan_daily.groupby(df_japan_daily.index.month).mean()\n",
    "\n",
    "# Plot the volatility by month of year\n",
    "plt.clf()\n",
    "fig, ax = plt.subplots(figsize=(10, 6))\n",
    "median_montly_exchange_CNY[‘Currency Volatility’].plot(ax=ax)\n",
    "median_montly_exchange_EUR[‘Currency Volatility’].plot(ax=ax)\n",
    "median_montly_exchange_JPY[‘Currency Volatility’].plot(ax=ax)\n",
    "\n",
    "# Set custom x-ticks with month names\n",
    "ax.set_xticks(range(1, 13))  # Set x-axis ticks to 1-12\n",
    "ax.set_xticklabels(calendar.month_abbr[1:])  # Replace numbers with abbreviated month names\n",
    "plt.xlabel(‘Month’)\n",
    "plt.ylabel(‘Volatility’)\n",
    "plt.legend([‘CNY’, ‘EUR’, ‘JPY’])\n",
    "plt.title(‘Volatility of Exchange Rate by Month of the Year (2000 - 2024)’)\n",
    "plt.show()"
   ]
  },
  {
   "cell_type": "code",
   "execution_count": null,
   "metadata": {},
   "outputs": [],
   "source": [
    "# Group the daily exchange rate data to plot the average rate by week of the year\n",
    "median_weekly_exchange_CNY = df_china_daily.groupby(df_china_daily.index.isocalendar().week).mean()\n",
    "median_weekly_exchange_EUR = df_euro_daily.groupby(df_euro_daily.index.isocalendar().week).mean()\n",
    "median_weekly_exchange_JPY = df_japan_daily.groupby(df_japan_daily.index.isocalendar().week).mean()\n",
    "\n",
    "# Plot the weekly exchange rate data\n",
    "plt.clf()\n",
    "median_weekly_exchange_CNY['Currency Volatility'].plot(figsize=(10, 6), ylabel='Volatility')\n",
    "median_weekly_exchange_JPY['Currency Volatility'].plot()\n",
    "median_weekly_exchange_EUR['Currency Volatility'].plot()\n",
    "plt.legend(['CNY', 'EUR', 'JPY'])\n",
    "plt.xlabel('Week of the Year')\n",
    "plt.title('Volatility of Exchange Rate by Week of the Year (2000 - 2024)')\n",
    "plt.show()\n",
    "plt.show()"
   ]
  },
  {
   "cell_type": "code",
   "execution_count": null,
   "metadata": {},
   "outputs": [],
   "source": [
    "display(df_china_daily.head())\n",
    "display(df_china_daily.tail())"
   ]
  },
  {
   "cell_type": "code",
   "execution_count": null,
   "metadata": {},
   "outputs": [],
   "source": [
    "# Let's generate a dataframe where the index is the date from 2000-01-03 to 2025-01-17 with the column Party\n",
    "df_party = pd.DataFrame(index=pd.date_range('2000-01-03', '2024-12-31'), columns=['Party'])\n",
    "\n",
    "# name the index column as Date\n",
    "df_party.index.name = 'Date'\n",
    "df_party = df_party.reset_index()\n",
    "df_party['Date'] = pd.to_datetime(df_party['Date'])\n",
    "\n",
    "# preview the head and tail\n",
    "display(df_party.head())\n",
    "display(df_party.tail())\n"
   ]
  },
  {
   "cell_type": "code",
   "execution_count": 592,
   "metadata": {},
   "outputs": [],
   "source": [
    "# let’s create function with multiple conditions that will assign the correct value\n",
    "def assign_party(date):\n",
    "    year = date.year\n",
    "    if year >= 2000 and year < 2001: # Clinton (Democratic)\n",
    "        return 1\n",
    "    elif year >= 2001 and year < 2009: # Bush (Republic)\n",
    "        return 0\n",
    "    elif year >= 2009 and year < 2017: # Barack (Democratic)\n",
    "        return 1\n",
    "    elif year >= 2017 and year < 2021: # Trump (Republic)\n",
    "        return 0\n",
    "    elif year >= 2021 and year < 2025: # Biden (Democratic)\n",
    "        return 1\n",
    "    else:\n",
    "        return None"
   ]
  },
  {
   "cell_type": "code",
   "execution_count": 593,
   "metadata": {},
   "outputs": [],
   "source": [
    "# lets apply our function to the df_party \n",
    "df_party['Party'] = df_party['Date'].apply(assign_party) "
   ]
  },
  {
   "cell_type": "code",
   "execution_count": null,
   "metadata": {},
   "outputs": [],
   "source": [
    "# export df_party to a csv file to check\n",
    "df_party.to_csv('Resources/df_party.csv', index=False)"
   ]
  },
  {
   "cell_type": "code",
   "execution_count": null,
   "metadata": {},
   "outputs": [],
   "source": []
  }
 ],
 "metadata": {
  "kernelspec": {
   "display_name": "dev",
   "language": "python",
   "name": "python3"
  },
  "language_info": {
   "codemirror_mode": {
    "name": "ipython",
    "version": 3
   },
   "file_extension": ".py",
   "mimetype": "text/x-python",
   "name": "python",
   "nbconvert_exporter": "python",
   "pygments_lexer": "ipython3",
   "version": "3.12.7"
  }
 },
 "nbformat": 4,
 "nbformat_minor": 2
}
